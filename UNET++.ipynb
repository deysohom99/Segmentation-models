{
  "nbformat": 4,
  "nbformat_minor": 0,
  "metadata": {
    "colab": {
      "name": "UNET++.ipynb",
      "provenance": [],
      "authorship_tag": "ABX9TyNWQteFSjIo6ApCGPFQjlg+",
      "include_colab_link": true
    },
    "kernelspec": {
      "name": "python3",
      "display_name": "Python 3"
    }
  },
  "cells": [
    {
      "cell_type": "markdown",
      "metadata": {
        "id": "view-in-github",
        "colab_type": "text"
      },
      "source": [
        "<a href=\"https://colab.research.google.com/github/deysohom99/Segmentation-models/blob/master/UNET%2B%2B.ipynb\" target=\"_parent\"><img src=\"https://colab.research.google.com/assets/colab-badge.svg\" alt=\"Open In Colab\"/></a>"
      ]
    },
    {
      "cell_type": "code",
      "metadata": {
        "id": "ys5YkyQ2Ez8Q",
        "colab_type": "code",
        "colab": {
          "base_uri": "https://localhost:8080/",
          "height": 35
        },
        "outputId": "c483319a-59ee-4ba2-eb37-2b3ef857c78e"
      },
      "source": [
        "%tensorflow_version 2.x"
      ],
      "execution_count": 2,
      "outputs": [
        {
          "output_type": "stream",
          "text": [
            "TensorFlow 2.x selected.\n"
          ],
          "name": "stdout"
        }
      ]
    },
    {
      "cell_type": "code",
      "metadata": {
        "id": "rrZSZGopE25S",
        "colab_type": "code",
        "colab": {}
      },
      "source": [
        "import tensorflow as tf\n",
        "from tensorflow.keras.models import Model\n",
        "from tensorflow.keras.layers import Input, Conv2D, MaxPooling2D, Conv2DTranspose, concatenate, BatchNormalization, average"
      ],
      "execution_count": 0,
      "outputs": []
    },
    {
      "cell_type": "code",
      "metadata": {
        "id": "KnQI640nq8Xm",
        "colab_type": "code",
        "colab": {}
      },
      "source": [
        "def nested_unet():\n",
        "\n",
        "  inputs = Input((512, 512, 3))\n",
        "\n",
        "  A_conv_0 = Conv2D(64, (3, 3), activation='relu', kernel_initializer='he_normal', padding='same', name='A_conv_0') (inputs)\n",
        "  A_conv_0 = BatchNormalization() (A_conv_0)\n",
        "  A_conv_0 = Conv2D(64, (3, 3), activation='relu', kernel_initializer='he_normal', padding='same', name='A_conv_0_1') (A_conv_0)\n",
        "  A_conv_0 = BatchNormalization() (A_conv_0)\n",
        "  A_pool_0 = MaxPooling2D((2, 2)) (A_conv_0)\n",
        "\n",
        "  B_conv_0 = Conv2D(128, (3, 3), activation='relu', kernel_initializer='he_normal', padding='same', name='B_conv_0') (A_pool_0)\n",
        "  B_conv_0 = BatchNormalization() (B_conv_0)\n",
        "  B_conv_0 = Conv2D(128, (3, 3), activation='relu', kernel_initializer='he_normal', padding='same', name='B_conv_0_1') (B_conv_0)\n",
        "  B_conv_0 = BatchNormalization() (B_conv_0)\n",
        "  B_pool_0 = MaxPooling2D((2, 2)) (B_conv_0)\n",
        "\n",
        "  C_conv_0 = Conv2D(256, (3, 3), activation='relu', kernel_initializer='he_normal', padding='same', name='C_conv_0') (B_pool_0)\n",
        "  C_conv_0 = BatchNormalization() (C_conv_0)\n",
        "  C_conv_0 = Conv2D(256, (3, 3), activation='relu', kernel_initializer='he_normal', padding='same', name='C_conv_0_1') (C_conv_0)\n",
        "  C_conv_0 = BatchNormalization() (C_conv_0)\n",
        "  C_pool_0 = MaxPooling2D((2, 2)) (C_conv_0)\n",
        "\n",
        "  D_conv_0 = Conv2D(512, (3, 3), activation='relu', kernel_initializer='he_normal', padding='same', name='D_conv_0') (C_pool_0)\n",
        "  D_conv_0 = BatchNormalization() (D_conv_0)\n",
        "  D_conv_0 = Conv2D(512, (3, 3), activation='relu', kernel_initializer='he_normal', padding='same', name='D_conv_0_1') (D_conv_0)\n",
        "  D_conv_0 = BatchNormalization() (D_conv_0)\n",
        "  D_pool_0 = MaxPooling2D((2, 2)) (D_conv_0)\n",
        "\n",
        "  E_conv_0 = Conv2D(1024, (3, 3), activation='relu', kernel_initializer='he_normal', padding='same', name='E_conv_0') (D_pool_0)\n",
        "  E_conv_0 = BatchNormalization() (E_conv_0)\n",
        "  E_conv_0 = Conv2D(1024, (3, 3), activation='relu', kernel_initializer='he_normal', padding='same', name='E_conv_0_1') (E_conv_0)\n",
        "  E_conv_0 = BatchNormalization() (E_conv_0)\n",
        "  E_pool_0 = MaxPooling2D((2, 2)) (E_conv_0)\n",
        "\n",
        "  #-------------------------------------------------------------------------------------------------------------#\n",
        "\n",
        "  A_conv_1 = Conv2DTranspose(64, (2, 2), strides=(2, 2), padding='same', name='A_trans_1') (B_conv_0)\n",
        "  A_conv_1 = concatenate([A_conv_0, A_conv_1], name='A_concat_1')\n",
        "  A_conv_1 = Conv2D(64, (3, 3), activation='relu', kernel_initializer='he_normal', padding='same', name='A_conv_1') (A_conv_1)\n",
        "  A_conv_1 = BatchNormalization() (A_conv_1)\n",
        "\n",
        "  B_conv_1 = Conv2DTranspose(128, (2, 2), strides=(2, 2), padding='same', name='B_trans_1') (C_conv_0)\n",
        "  B_conv_1 = concatenate([B_conv_0, B_conv_1], name='B_concat_1')\n",
        "  B_conv_1 = Conv2D(128, (3, 3), activation='relu', kernel_initializer='he_normal', padding='same', name='B_conv_1') (B_conv_1)\n",
        "  B_conv_1 = BatchNormalization() (B_conv_1)\n",
        "\n",
        "  C_conv_1 = Conv2DTranspose(256, (2, 2), strides=(2, 2), padding='same', name='C_trans_1') (D_conv_0)\n",
        "  C_conv_1 = concatenate([C_conv_0, C_conv_1], name='C_concat_1')\n",
        "  C_conv_1 = Conv2D(256, (3, 3), activation='relu', kernel_initializer='he_normal', padding='same', name='C_conv_1') (C_conv_1)\n",
        "  C_conv_1 = BatchNormalization() (C_conv_1)\n",
        "\n",
        "  D_conv_1 = Conv2DTranspose(512, (2, 2), strides=(2, 2), padding='same', name='D_trans_1') (E_conv_0)\n",
        "  D_conv_1 = concatenate([D_conv_0, D_conv_1], name='D_concat_1')\n",
        "  D_conv_1 = Conv2D(512, (3, 3), activation='relu', kernel_initializer='he_normal', padding='same', name='D_conv_1') (D_conv_1)\n",
        "  D_conv_1 = BatchNormalization() (D_conv_1)\n",
        "\n",
        "  #-------------------------------------------------------------------------------------------------------------#\n",
        "\n",
        "  A_conv_2 = Conv2DTranspose(64, (2, 2), strides=(2, 2), padding='same', name='A_trans_2') (B_conv_1)\n",
        "  A_conv_2 = concatenate([A_conv_0, A_conv_1, A_conv_2], name='A_concat_2')\n",
        "  A_conv_2 = Conv2D(64, (3, 3), activation='relu', kernel_initializer='he_normal', padding='same', name='A_conv_2') (A_conv_2)\n",
        "  A_conv_2 = BatchNormalization() (A_conv_2)\n",
        "\n",
        "  B_conv_2 = Conv2DTranspose(128, (2, 2), strides=(2, 2), padding='same', name='B_trans_2') (C_conv_1)\n",
        "  B_conv_2 = concatenate([B_conv_0, B_conv_1, B_conv_2], name='B_concat_2')\n",
        "  B_conv_2 = Conv2D(128, (3, 3), activation='relu', kernel_initializer='he_normal', padding='same', name='B_conv_2') (B_conv_2)\n",
        "  B_conv_2 = BatchNormalization() (B_conv_2)\n",
        "\n",
        "  C_conv_2 = Conv2DTranspose(256, (2, 2), strides=(2, 2), padding='same', name='C_trans_2') (D_conv_1)\n",
        "  C_conv_2 = concatenate([C_conv_0, C_conv_1, C_conv_2], name='C_concat_2')\n",
        "  C_conv_2 = Conv2D(256, (3, 3), activation='relu', kernel_initializer='he_normal', padding='same', name='C_conv_2') (C_conv_2)\n",
        "  C_conv_2 = BatchNormalization() (C_conv_2)\n",
        "\n",
        "  #-------------------------------------------------------------------------------------------------------------#\n",
        "\n",
        "  A_conv_3 = Conv2DTranspose(64, (2, 2), strides=(2, 2), padding='same', name='A_trans_3') (B_conv_2)\n",
        "  A_conv_3 = concatenate([A_conv_0, A_conv_1, A_conv_2, A_conv_3], name='A_concat_3')\n",
        "  A_conv_3 = Conv2D(64, (3, 3), activation='relu', kernel_initializer='he_normal', padding='same', name='A_conv_3') (A_conv_3)\n",
        "  A_conv_3 = BatchNormalization() (A_conv_3)\n",
        "\n",
        "  B_conv_3 = Conv2DTranspose(128, (2, 2), strides=(2, 2), padding='same', name='B_trans_3') (C_conv_2)\n",
        "  B_conv_3 = concatenate([B_conv_0, B_conv_1, B_conv_2, B_conv_3], name='B_concat_3')\n",
        "  B_conv_3 = Conv2D(128, (3, 3), activation='relu', kernel_initializer='he_normal', padding='same', name='B_conv_3') (B_conv_3)\n",
        "  B_conv_3 = BatchNormalization() (B_conv_3)\n",
        "\n",
        "  #-------------------------------------------------------------------------------------------------------------#\n",
        "\n",
        "  A_conv_4 = Conv2DTranspose(64, (2, 2), strides=(2, 2), padding='same', name='A_trans_4') (B_conv_3)\n",
        "  A_conv_4 = concatenate([A_conv_0, A_conv_1, A_conv_2, A_conv_3, A_conv_4], name='A_concat_4')\n",
        "  A_conv_4 = Conv2D(64, (3, 3), activation='relu', kernel_initializer='he_normal', padding='same', name='A_conv_4') (A_conv_4)\n",
        "  A_conv_4 = BatchNormalization() (A_conv_4)\n",
        "\n",
        "  #-------------------------------------------------------------------------------------------------------------#\n",
        "\n",
        "  A_out_1 = Conv2D(1, (1, 1), activation='sigmoid') (A_conv_1)\n",
        "  A_out_2 = Conv2D(1, (1, 1), activation='sigmoid') (A_conv_2)\n",
        "  A_out_3 = Conv2D(1, (1, 1), activation='sigmoid') (A_conv_3)\n",
        "  A_out_4 = Conv2D(1, (1, 1), activation='sigmoid') (A_conv_4)\n",
        "\n",
        "  outputs = average([A_out_1, A_out_2, A_out_3, A_out_4])\n",
        "\n",
        "  model = Model(inputs=[inputs], outputs=[outputs])\n",
        "\n",
        "  return model"
      ],
      "execution_count": 0,
      "outputs": []
    },
    {
      "cell_type": "code",
      "metadata": {
        "id": "uGbS8sJFsqkC",
        "colab_type": "code",
        "colab": {}
      },
      "source": [
        "model = nested_unet()\n",
        "model.summary()"
      ],
      "execution_count": 0,
      "outputs": []
    },
    {
      "cell_type": "code",
      "metadata": {
        "id": "MJKolJreAE5c",
        "colab_type": "code",
        "colab": {}
      },
      "source": [
        ""
      ],
      "execution_count": 0,
      "outputs": []
    }
  ]
}