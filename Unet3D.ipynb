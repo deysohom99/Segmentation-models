{
  "nbformat": 4,
  "nbformat_minor": 0,
  "metadata": {
    "colab": {
      "name": "Unet3D.ipynb",
      "provenance": [],
      "collapsed_sections": [],
      "authorship_tag": "ABX9TyM3nRJy7O/vOxQUDzsaVOOq",
      "include_colab_link": true
    },
    "kernelspec": {
      "name": "python3",
      "display_name": "Python 3"
    }
  },
  "cells": [
    {
      "cell_type": "markdown",
      "metadata": {
        "id": "view-in-github",
        "colab_type": "text"
      },
      "source": [
        "<a href=\"https://colab.research.google.com/github/sohom21d/Segmentation-models/blob/master/Unet3D.ipynb\" target=\"_parent\"><img src=\"https://colab.research.google.com/assets/colab-badge.svg\" alt=\"Open In Colab\"/></a>"
      ]
    },
    {
      "cell_type": "code",
      "metadata": {
        "id": "WOyCdq9s4XVs",
        "colab_type": "code",
        "colab": {}
      },
      "source": [
        "from tensorflow.keras.models import Model\n",
        "from tensorflow.keras.layers import Input, Conv3D, MaxPool3D, Conv3DTranspose, concatenate, BatchNormalization"
      ],
      "execution_count": 1,
      "outputs": []
    },
    {
      "cell_type": "code",
      "metadata": {
        "id": "x5VsVxCP4cEH",
        "colab_type": "code",
        "colab": {}
      },
      "source": [
        "def Conv3DNorm2X(input_tensor, filters):\n",
        "  '''\n",
        "  conv3d->batchnorm->conv3d->batchnorm\n",
        "  '''\n",
        "  output_tensor = Conv3D(filters, kernel_size=(3,3,3), padding='same', activation='relu', kernel_initializer='he_normal')(input_tensor)\n",
        "  output_tensor = BatchNormalization()(output_tensor)\n",
        "  output_tensor = Conv3D(filters, kernel_size=(3,3,3), padding='same', activation='relu', kernel_initializer='he_normal')(output_tensor)\n",
        "  output_tensor = BatchNormalization()(output_tensor)\n",
        "  return output_tensor"
      ],
      "execution_count": 2,
      "outputs": []
    },
    {
      "cell_type": "code",
      "metadata": {
        "id": "d04Z4dGh28J3",
        "colab_type": "code",
        "colab": {}
      },
      "source": [
        "def unet3d(input_shape=(128,128,16,1), n_classes=1, start_filters=32):\n",
        "\n",
        "  '''\n",
        "  input_shape = (H, W, D, C)\n",
        "  n_classes = number of classes (ouput channels)\n",
        "  start_filters = starting encoder layer filters\n",
        "  '''\n",
        "\n",
        "  f = [start_filters, start_filters*2, start_filters*3, start_filters*4, start_filters*5]\n",
        "\n",
        "  inputs = Input(input_shape)\n",
        "\n",
        "  c1 = Conv3DNorm2X(inputs, f[0])\n",
        "  p1 = MaxPool3D()(c1)\n",
        "\n",
        "  c2 = Conv3DNorm2X(p1, f[1])\n",
        "  p2 = MaxPool3D()(c2)\n",
        "\n",
        "  c3 = Conv3DNorm2X(p2, f[2])\n",
        "  p3 = MaxPool3D()(c3)\n",
        "\n",
        "  c4 = Conv3DNorm2X(p3, f[3])\n",
        "  p4 = MaxPool3D()(c4)\n",
        "\n",
        "  c5 = Conv3DNorm2X(p4, f[4])\n",
        "\n",
        "  u6 = Conv3DTranspose(f[3], kernel_size=(2,2,2), strides=(2,2,2), padding='same')(c5)\n",
        "  u6 = concatenate([u6, c4])\n",
        "  c6 = Conv3DNorm2X(u6, f[3])\n",
        "\n",
        "  u7 = Conv3DTranspose(f[2], kernel_size=(2,2,2), strides=(2,2,2), padding='same')(c6)\n",
        "  u7 = concatenate([u7, c3])\n",
        "  c7 = Conv3DNorm2X(u7, f[2])\n",
        "\n",
        "  u8 = Conv3DTranspose(f[1], kernel_size=(2,2,2), strides=(2,2,2), padding='same')(c7)\n",
        "  u8 = concatenate([u8, c2])\n",
        "  c8 = Conv3DNorm2X(u8, f[1])\n",
        "\n",
        "  u9 = Conv3DTranspose(f[0], kernel_size=(2,2,2), strides=(2,2,2), padding='same')(c8)\n",
        "  u9 = concatenate([u9, c1])\n",
        "  c9 = Conv3DNorm2X(u9, f[0])\n",
        "\n",
        "  outputs = Conv3D(n_classes, kernel_size=(1,1,1), padding='same', activation='sigmoid', kernel_initializer='he_normal')(c9)\n",
        "\n",
        "  model = Model(inputs=[inputs], outputs=[outputs])\n",
        "\n",
        "  return model"
      ],
      "execution_count": 3,
      "outputs": []
    },
    {
      "cell_type": "code",
      "metadata": {
        "id": "44bxPTWM92hL",
        "colab_type": "code",
        "colab": {}
      },
      "source": [
        "model = unet3d(input_shape=(128,128,16,1), n_classes=1, start_filters=32)"
      ],
      "execution_count": 6,
      "outputs": []
    },
    {
      "cell_type": "code",
      "metadata": {
        "id": "dtUfqj-p96Az",
        "colab_type": "code",
        "colab": {
          "base_uri": "https://localhost:8080/",
          "height": 1000
        },
        "outputId": "0bc844c4-f9ac-4d2b-95b7-4b576473dbcc"
      },
      "source": [
        "model.summary()"
      ],
      "execution_count": 7,
      "outputs": [
        {
          "output_type": "stream",
          "text": [
            "Model: \"functional_3\"\n",
            "__________________________________________________________________________________________________\n",
            "Layer (type)                    Output Shape         Param #     Connected to                     \n",
            "==================================================================================================\n",
            "input_2 (InputLayer)            [(None, 128, 128, 16 0                                            \n",
            "__________________________________________________________________________________________________\n",
            "conv3d_19 (Conv3D)              (None, 128, 128, 16, 896         input_2[0][0]                    \n",
            "__________________________________________________________________________________________________\n",
            "batch_normalization_18 (BatchNo (None, 128, 128, 16, 128         conv3d_19[0][0]                  \n",
            "__________________________________________________________________________________________________\n",
            "conv3d_20 (Conv3D)              (None, 128, 128, 16, 27680       batch_normalization_18[0][0]     \n",
            "__________________________________________________________________________________________________\n",
            "batch_normalization_19 (BatchNo (None, 128, 128, 16, 128         conv3d_20[0][0]                  \n",
            "__________________________________________________________________________________________________\n",
            "max_pooling3d_4 (MaxPooling3D)  (None, 64, 64, 8, 32 0           batch_normalization_19[0][0]     \n",
            "__________________________________________________________________________________________________\n",
            "conv3d_21 (Conv3D)              (None, 64, 64, 8, 64 55360       max_pooling3d_4[0][0]            \n",
            "__________________________________________________________________________________________________\n",
            "batch_normalization_20 (BatchNo (None, 64, 64, 8, 64 256         conv3d_21[0][0]                  \n",
            "__________________________________________________________________________________________________\n",
            "conv3d_22 (Conv3D)              (None, 64, 64, 8, 64 110656      batch_normalization_20[0][0]     \n",
            "__________________________________________________________________________________________________\n",
            "batch_normalization_21 (BatchNo (None, 64, 64, 8, 64 256         conv3d_22[0][0]                  \n",
            "__________________________________________________________________________________________________\n",
            "max_pooling3d_5 (MaxPooling3D)  (None, 32, 32, 4, 64 0           batch_normalization_21[0][0]     \n",
            "__________________________________________________________________________________________________\n",
            "conv3d_23 (Conv3D)              (None, 32, 32, 4, 96 165984      max_pooling3d_5[0][0]            \n",
            "__________________________________________________________________________________________________\n",
            "batch_normalization_22 (BatchNo (None, 32, 32, 4, 96 384         conv3d_23[0][0]                  \n",
            "__________________________________________________________________________________________________\n",
            "conv3d_24 (Conv3D)              (None, 32, 32, 4, 96 248928      batch_normalization_22[0][0]     \n",
            "__________________________________________________________________________________________________\n",
            "batch_normalization_23 (BatchNo (None, 32, 32, 4, 96 384         conv3d_24[0][0]                  \n",
            "__________________________________________________________________________________________________\n",
            "max_pooling3d_6 (MaxPooling3D)  (None, 16, 16, 2, 96 0           batch_normalization_23[0][0]     \n",
            "__________________________________________________________________________________________________\n",
            "conv3d_25 (Conv3D)              (None, 16, 16, 2, 12 331904      max_pooling3d_6[0][0]            \n",
            "__________________________________________________________________________________________________\n",
            "batch_normalization_24 (BatchNo (None, 16, 16, 2, 12 512         conv3d_25[0][0]                  \n",
            "__________________________________________________________________________________________________\n",
            "conv3d_26 (Conv3D)              (None, 16, 16, 2, 12 442496      batch_normalization_24[0][0]     \n",
            "__________________________________________________________________________________________________\n",
            "batch_normalization_25 (BatchNo (None, 16, 16, 2, 12 512         conv3d_26[0][0]                  \n",
            "__________________________________________________________________________________________________\n",
            "max_pooling3d_7 (MaxPooling3D)  (None, 8, 8, 1, 128) 0           batch_normalization_25[0][0]     \n",
            "__________________________________________________________________________________________________\n",
            "conv3d_27 (Conv3D)              (None, 8, 8, 1, 160) 553120      max_pooling3d_7[0][0]            \n",
            "__________________________________________________________________________________________________\n",
            "batch_normalization_26 (BatchNo (None, 8, 8, 1, 160) 640         conv3d_27[0][0]                  \n",
            "__________________________________________________________________________________________________\n",
            "conv3d_28 (Conv3D)              (None, 8, 8, 1, 160) 691360      batch_normalization_26[0][0]     \n",
            "__________________________________________________________________________________________________\n",
            "batch_normalization_27 (BatchNo (None, 8, 8, 1, 160) 640         conv3d_28[0][0]                  \n",
            "__________________________________________________________________________________________________\n",
            "conv3d_transpose_4 (Conv3DTrans (None, 16, 16, 2, 12 163968      batch_normalization_27[0][0]     \n",
            "__________________________________________________________________________________________________\n",
            "concatenate_4 (Concatenate)     (None, 16, 16, 2, 25 0           conv3d_transpose_4[0][0]         \n",
            "                                                                 batch_normalization_25[0][0]     \n",
            "__________________________________________________________________________________________________\n",
            "conv3d_29 (Conv3D)              (None, 16, 16, 2, 12 884864      concatenate_4[0][0]              \n",
            "__________________________________________________________________________________________________\n",
            "batch_normalization_28 (BatchNo (None, 16, 16, 2, 12 512         conv3d_29[0][0]                  \n",
            "__________________________________________________________________________________________________\n",
            "conv3d_30 (Conv3D)              (None, 16, 16, 2, 12 442496      batch_normalization_28[0][0]     \n",
            "__________________________________________________________________________________________________\n",
            "batch_normalization_29 (BatchNo (None, 16, 16, 2, 12 512         conv3d_30[0][0]                  \n",
            "__________________________________________________________________________________________________\n",
            "conv3d_transpose_5 (Conv3DTrans (None, 32, 32, 4, 96 98400       batch_normalization_29[0][0]     \n",
            "__________________________________________________________________________________________________\n",
            "concatenate_5 (Concatenate)     (None, 32, 32, 4, 19 0           conv3d_transpose_5[0][0]         \n",
            "                                                                 batch_normalization_23[0][0]     \n",
            "__________________________________________________________________________________________________\n",
            "conv3d_31 (Conv3D)              (None, 32, 32, 4, 96 497760      concatenate_5[0][0]              \n",
            "__________________________________________________________________________________________________\n",
            "batch_normalization_30 (BatchNo (None, 32, 32, 4, 96 384         conv3d_31[0][0]                  \n",
            "__________________________________________________________________________________________________\n",
            "conv3d_32 (Conv3D)              (None, 32, 32, 4, 96 248928      batch_normalization_30[0][0]     \n",
            "__________________________________________________________________________________________________\n",
            "batch_normalization_31 (BatchNo (None, 32, 32, 4, 96 384         conv3d_32[0][0]                  \n",
            "__________________________________________________________________________________________________\n",
            "conv3d_transpose_6 (Conv3DTrans (None, 64, 64, 8, 64 49216       batch_normalization_31[0][0]     \n",
            "__________________________________________________________________________________________________\n",
            "concatenate_6 (Concatenate)     (None, 64, 64, 8, 12 0           conv3d_transpose_6[0][0]         \n",
            "                                                                 batch_normalization_21[0][0]     \n",
            "__________________________________________________________________________________________________\n",
            "conv3d_33 (Conv3D)              (None, 64, 64, 8, 64 221248      concatenate_6[0][0]              \n",
            "__________________________________________________________________________________________________\n",
            "batch_normalization_32 (BatchNo (None, 64, 64, 8, 64 256         conv3d_33[0][0]                  \n",
            "__________________________________________________________________________________________________\n",
            "conv3d_34 (Conv3D)              (None, 64, 64, 8, 64 110656      batch_normalization_32[0][0]     \n",
            "__________________________________________________________________________________________________\n",
            "batch_normalization_33 (BatchNo (None, 64, 64, 8, 64 256         conv3d_34[0][0]                  \n",
            "__________________________________________________________________________________________________\n",
            "conv3d_transpose_7 (Conv3DTrans (None, 128, 128, 16, 16416       batch_normalization_33[0][0]     \n",
            "__________________________________________________________________________________________________\n",
            "concatenate_7 (Concatenate)     (None, 128, 128, 16, 0           conv3d_transpose_7[0][0]         \n",
            "                                                                 batch_normalization_19[0][0]     \n",
            "__________________________________________________________________________________________________\n",
            "conv3d_35 (Conv3D)              (None, 128, 128, 16, 55328       concatenate_7[0][0]              \n",
            "__________________________________________________________________________________________________\n",
            "batch_normalization_34 (BatchNo (None, 128, 128, 16, 128         conv3d_35[0][0]                  \n",
            "__________________________________________________________________________________________________\n",
            "conv3d_36 (Conv3D)              (None, 128, 128, 16, 27680       batch_normalization_34[0][0]     \n",
            "__________________________________________________________________________________________________\n",
            "batch_normalization_35 (BatchNo (None, 128, 128, 16, 128         conv3d_36[0][0]                  \n",
            "__________________________________________________________________________________________________\n",
            "conv3d_37 (Conv3D)              (None, 128, 128, 16, 33          batch_normalization_35[0][0]     \n",
            "==================================================================================================\n",
            "Total params: 5,451,777\n",
            "Trainable params: 5,448,577\n",
            "Non-trainable params: 3,200\n",
            "__________________________________________________________________________________________________\n"
          ],
          "name": "stdout"
        }
      ]
    },
    {
      "cell_type": "code",
      "metadata": {
        "id": "sJAuFFv_-cQu",
        "colab_type": "code",
        "colab": {}
      },
      "source": [
        ""
      ],
      "execution_count": 17,
      "outputs": []
    }
  ]
}